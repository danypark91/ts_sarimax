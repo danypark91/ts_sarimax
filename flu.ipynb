{
 "cells": [
  {
   "cell_type": "code",
   "execution_count": 1,
   "metadata": {},
   "outputs": [],
   "source": [
    "import pandas as pd\n",
    "import matplotlib.pyplot as plt"
   ]
  },
  {
   "cell_type": "code",
   "execution_count": 2,
   "metadata": {},
   "outputs": [
    {
     "data": {
      "text/html": [
       "<div>\n",
       "<style scoped>\n",
       "    .dataframe tbody tr th:only-of-type {\n",
       "        vertical-align: middle;\n",
       "    }\n",
       "\n",
       "    .dataframe tbody tr th {\n",
       "        vertical-align: top;\n",
       "    }\n",
       "\n",
       "    .dataframe thead th {\n",
       "        text-align: right;\n",
       "    }\n",
       "</style>\n",
       "<table border=\"1\" class=\"dataframe\">\n",
       "  <thead>\n",
       "    <tr style=\"text-align: right;\">\n",
       "      <th></th>\n",
       "      <th>season</th>\n",
       "      <th>date_code</th>\n",
       "      <th>weekending</th>\n",
       "      <th>region</th>\n",
       "      <th>Respiratory_Virus</th>\n",
       "      <th>Number_Positive</th>\n",
       "      <th>Specimens_Tested</th>\n",
       "      <th>Percent_Positive</th>\n",
       "    </tr>\n",
       "  </thead>\n",
       "  <tbody>\n",
       "    <tr>\n",
       "      <th>0</th>\n",
       "      <td>2009-2010</td>\n",
       "      <td>200940</td>\n",
       "      <td>10/10/09</td>\n",
       "      <td>Bay Area</td>\n",
       "      <td>Influenza_A</td>\n",
       "      <td>36</td>\n",
       "      <td>220</td>\n",
       "      <td>16.36</td>\n",
       "    </tr>\n",
       "    <tr>\n",
       "      <th>1</th>\n",
       "      <td>2009-2010</td>\n",
       "      <td>200940</td>\n",
       "      <td>10/10/09</td>\n",
       "      <td>Bay Area</td>\n",
       "      <td>Influenza_B</td>\n",
       "      <td>0</td>\n",
       "      <td>220</td>\n",
       "      <td>0.00</td>\n",
       "    </tr>\n",
       "    <tr>\n",
       "      <th>2</th>\n",
       "      <td>2009-2010</td>\n",
       "      <td>200940</td>\n",
       "      <td>10/10/09</td>\n",
       "      <td>Bay Area</td>\n",
       "      <td>Total_Influenza</td>\n",
       "      <td>36</td>\n",
       "      <td>220</td>\n",
       "      <td>16.36</td>\n",
       "    </tr>\n",
       "    <tr>\n",
       "      <th>3</th>\n",
       "      <td>2009-2010</td>\n",
       "      <td>200940</td>\n",
       "      <td>10/10/09</td>\n",
       "      <td>Bay Area</td>\n",
       "      <td>RSV</td>\n",
       "      <td>0</td>\n",
       "      <td>190</td>\n",
       "      <td>0.00</td>\n",
       "    </tr>\n",
       "    <tr>\n",
       "      <th>4</th>\n",
       "      <td>2009-2010</td>\n",
       "      <td>200940</td>\n",
       "      <td>10/10/09</td>\n",
       "      <td>California</td>\n",
       "      <td>Influenza_A</td>\n",
       "      <td>1077</td>\n",
       "      <td>3324</td>\n",
       "      <td>32.40</td>\n",
       "    </tr>\n",
       "  </tbody>\n",
       "</table>\n",
       "</div>"
      ],
      "text/plain": [
       "      season  date_code weekending      region Respiratory_Virus  \\\n",
       "0  2009-2010     200940   10/10/09    Bay Area       Influenza_A   \n",
       "1  2009-2010     200940   10/10/09    Bay Area       Influenza_B   \n",
       "2  2009-2010     200940   10/10/09    Bay Area   Total_Influenza   \n",
       "3  2009-2010     200940   10/10/09    Bay Area               RSV   \n",
       "4  2009-2010     200940   10/10/09  California       Influenza_A   \n",
       "\n",
       "   Number_Positive  Specimens_Tested  Percent_Positive  \n",
       "0               36               220             16.36  \n",
       "1                0               220              0.00  \n",
       "2               36               220             16.36  \n",
       "3                0               190              0.00  \n",
       "4             1077              3324             32.40  "
      ]
     },
     "execution_count": 2,
     "metadata": {},
     "output_type": "execute_result"
    }
   ],
   "source": [
    "flu = pd.read_csv(\"https://query.data.world/s/36nbd4wq3xmkqijc5a47ujr34h47og\")\n",
    "flu.head(5)\n"
   ]
  }
 ],
 "metadata": {
  "kernelspec": {
   "display_name": "Python 3",
   "language": "python",
   "name": "python3"
  },
  "language_info": {
   "codemirror_mode": {
    "name": "ipython",
    "version": 3
   },
   "file_extension": ".py",
   "mimetype": "text/x-python",
   "name": "python",
   "nbconvert_exporter": "python",
   "pygments_lexer": "ipython3",
   "version": "3.7.3"
  }
 },
 "nbformat": 4,
 "nbformat_minor": 4
}
